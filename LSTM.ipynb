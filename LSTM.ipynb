{
 "cells": [
  {
   "cell_type": "code",
   "execution_count": 14,
   "metadata": {},
   "outputs": [],
   "source": [
    "import pandas as pd\n",
    "import numpy as np\n",
    "import nltk\n",
    "from nltk.corpus import stopwords\n",
    "from nltk.stem import WordNetLemmatizer\n",
    "from sklearn.preprocessing import MultiLabelBinarizer\n",
    "from sklearn.model_selection import train_test_split\n",
    "from tensorflow.keras.preprocessing.text import Tokenizer\n",
    "from tensorflow.keras.preprocessing.sequence import pad_sequences\n",
    "from keras.utils import to_categorical"
   ]
  },
  {
   "cell_type": "code",
   "execution_count": 2,
   "metadata": {},
   "outputs": [
    {
     "name": "stderr",
     "output_type": "stream",
     "text": [
      "[nltk_data] Downloading package stopwords to /Users/brad/nltk_data...\n",
      "[nltk_data]   Package stopwords is already up-to-date!\n",
      "[nltk_data] Downloading package wordnet to /Users/brad/nltk_data...\n",
      "[nltk_data]   Package wordnet is already up-to-date!\n"
     ]
    }
   ],
   "source": [
    "# Load the dataset\n",
    "data = pd.read_csv('data/train.csv')\n",
    "\n",
    "# Preprocess the text\n",
    "nltk.download('stopwords')\n",
    "nltk.download('wordnet')\n",
    "stop_words = set(stopwords.words('english'))\n",
    "lemmatizer = WordNetLemmatizer()\n",
    "\n",
    "def preprocess_text(text):\n",
    "    # Tokenize, remove stopwords, and lemmatize\n",
    "    tokens = nltk.word_tokenize(text.lower())\n",
    "    filtered_tokens = [lemmatizer.lemmatize(token) for token in tokens if token not in stop_words and token.isalnum()]\n",
    "    return ' '.join(filtered_tokens)\n",
    "\n",
    "data = data[['movie_name', 'synopsis', 'genre']]\n",
    "data['synopsis'] = data['synopsis'].apply(preprocess_text)\n",
    "\n",
    "# Preprocess the genres\n",
    "data['genre'] = data['genre'].apply(lambda x: x.split('|'))\n",
    "mlb = MultiLabelBinarizer()\n",
    "genres_encoded = mlb.fit_transform(data['genre'])"
   ]
  },
  {
   "cell_type": "code",
   "execution_count": 9,
   "metadata": {},
   "outputs": [],
   "source": [
    "# Load the pre-trained GloVe embeddings\n",
    "embeddings_index = {}\n",
    "path = '../glove.6B/glove.6B.100d.txt'\n",
    "with open(path, encoding='utf-8') as f:\n",
    "    for line in f:\n",
    "        values = line.split()\n",
    "        word = values[0]\n",
    "        coefs = np.asarray(values[1:], dtype='float32')\n",
    "        embeddings_index[word] = coefs\n",
    "\n",
    "# Tokenize and pad the text sequences\n",
    "tokenizer = Tokenizer()\n",
    "tokenizer.fit_on_texts(data['synopsis'])\n",
    "sequences = tokenizer.texts_to_sequences(data['synopsis'])\n",
    "word_index = tokenizer.word_index\n",
    "padded_sequences = pad_sequences(sequences, maxlen=300)\n",
    "\n",
    "# Create the embedding matrix\n",
    "embedding_matrix = np.zeros((len(word_index) + 1, 100))\n",
    "for word, i in word_index.items():\n",
    "    embedding_vector = embeddings_index.get(word)\n",
    "    if embedding_vector is not None:\n",
    "        embedding_matrix[i] = embedding_vector"
   ]
  },
  {
   "cell_type": "code",
   "execution_count": 10,
   "metadata": {},
   "outputs": [
    {
     "name": "stdout",
     "output_type": "stream",
     "text": [
      "Epoch 1/10\n",
      "675/675 [==============================] - 204s 298ms/step - loss: 0.2966 - accuracy: 0.2670 - val_loss: 0.2759 - val_accuracy: 0.3327\n",
      "Epoch 2/10\n",
      "675/675 [==============================] - 196s 290ms/step - loss: 0.2745 - accuracy: 0.3362 - val_loss: 0.2702 - val_accuracy: 0.3489\n",
      "Epoch 3/10\n",
      "675/675 [==============================] - 200s 297ms/step - loss: 0.2695 - accuracy: 0.3530 - val_loss: 0.2682 - val_accuracy: 0.3530\n",
      "Epoch 4/10\n",
      "675/675 [==============================] - 221s 328ms/step - loss: 0.2660 - accuracy: 0.3632 - val_loss: 0.2667 - val_accuracy: 0.3519\n",
      "Epoch 5/10\n",
      "675/675 [==============================] - 236s 349ms/step - loss: 0.2633 - accuracy: 0.3717 - val_loss: 0.2655 - val_accuracy: 0.3605\n",
      "Epoch 6/10\n",
      "675/675 [==============================] - 214s 317ms/step - loss: 0.2609 - accuracy: 0.3791 - val_loss: 0.2656 - val_accuracy: 0.3587\n",
      "Epoch 7/10\n",
      "675/675 [==============================] - 222s 329ms/step - loss: 0.2600 - accuracy: 0.3804 - val_loss: 0.2673 - val_accuracy: 0.3565\n",
      "Epoch 8/10\n",
      "675/675 [==============================] - 235s 348ms/step - loss: 0.2649 - accuracy: 0.3689 - val_loss: 0.2717 - val_accuracy: 0.3494\n",
      "Epoch 9/10\n",
      "675/675 [==============================] - 228s 338ms/step - loss: 0.2579 - accuracy: 0.3864 - val_loss: 0.2652 - val_accuracy: 0.3656\n",
      "Epoch 10/10\n",
      "675/675 [==============================] - 223s 331ms/step - loss: 0.2556 - accuracy: 0.3949 - val_loss: 0.2653 - val_accuracy: 0.3610\n"
     ]
    },
    {
     "data": {
      "text/plain": [
       "<keras.callbacks.History at 0x14cc33550>"
      ]
     },
     "execution_count": 10,
     "metadata": {},
     "output_type": "execute_result"
    }
   ],
   "source": [
    "from tensorflow.keras.models import Sequential\n",
    "from tensorflow.keras.layers import Embedding, LSTM, Dense\n",
    "\n",
    "# Define the LSTM model\n",
    "model = Sequential()\n",
    "model.add(Embedding(len(word_index) + 1, 100, weights=[embedding_matrix], input_length=300, trainable=False))\n",
    "model.add(LSTM(128, dropout=0.2, recurrent_dropout=0.2))\n",
    "model.add(Dense(len(mlb.classes_), activation='sigmoid'))\n",
    "\n",
    "# Compile the model\n",
    "model.compile(loss='binary_crossentropy', optimizer='adam', metrics=['accuracy'])\n",
    "\n",
    "# Split the data into training and testing sets\n",
    "X_train, X_test, y_train, y_test = train_test_split(padded_sequences, genres_encoded, test_size=0.2, random_state=42)\n",
    "\n",
    "# Train the model\n",
    "model.fit(X_train, y_train, batch_size=64, epochs=10, validation_data=(X_test, y_test))"
   ]
  },
  {
   "cell_type": "code",
   "execution_count": 20,
   "metadata": {},
   "outputs": [
    {
     "name": "stdout",
     "output_type": "stream",
     "text": [
      "338/338 [==============================] - 15s 44ms/step\n",
      "Accuracy: 0.3610185185185185\n",
      "Precision: 0.3610185185185185\n",
      "Recall: 0.3610185185185185\n",
      "F1-score: 0.3610185185185185\n"
     ]
    }
   ],
   "source": [
    "from sklearn.metrics import accuracy_score, precision_score, recall_score, f1_score\n",
    "\n",
    "# Make predictions on the test set\n",
    "y_pred = model.predict(X_test)\n",
    "y_pred_classes = np.argmax(y_pred, axis=1)\n",
    "y_pred_onehot = to_categorical(y_pred_classes, num_classes=10)\n",
    "\n",
    "# Calculate evaluation metrics\n",
    "accuracy = accuracy_score(y_test, y_pred_onehot)\n",
    "precision = precision_score(y_test, y_pred_onehot, average='micro')\n",
    "recall = recall_score(y_test, y_pred_onehot, average='micro')\n",
    "f1 = f1_score(y_test, y_pred_onehot, average='micro')\n",
    "\n",
    "print(f'Accuracy: {accuracy}')\n",
    "print(f'Precision: {precision}')\n",
    "print(f'Recall: {recall}')\n",
    "print(f'F1-score: {f1}')"
   ]
  },
  {
   "cell_type": "code",
   "execution_count": 25,
   "metadata": {},
   "outputs": [
    {
     "name": "stdout",
     "output_type": "stream",
     "text": [
      "Movie: Super Me\n",
      "Actual genres: fantasy\n",
      "Predicted genres: mystery\n",
      "\n",
      "Movie: Behavioral Family Therapy for Serious Psychiatric Disorders\n",
      "Actual genres: family\n",
      "Predicted genres: adventure\n",
      "\n",
      "Movie: Blood Glacier\n",
      "Actual genres: scifi\n",
      "Predicted genres: horror\n",
      "\n",
      "Movie: Apat na anino\n",
      "Actual genres: action\n",
      "Predicted genres: romance\n",
      "\n",
      "Movie: Le démon dans l'île\n",
      "Actual genres: horror\n",
      "Predicted genres: horror\n",
      "\n",
      "Movie: Candid\n",
      "Actual genres: horror\n",
      "Predicted genres: mystery\n",
      "\n",
      "Movie: Hired\n",
      "Actual genres: crime\n",
      "Predicted genres: romance\n",
      "\n",
      "Movie: Miruthan\n",
      "Actual genres: adventure\n",
      "Predicted genres: adventure\n",
      "\n",
      "Movie: Until You See Me\n",
      "Actual genres: mystery\n",
      "Predicted genres: scifi\n",
      "\n",
      "Movie: Shamus\n",
      "Actual genres: mystery\n",
      "Predicted genres: mystery\n",
      "\n"
     ]
    }
   ],
   "source": [
    "# Identify misclassified instances\n",
    "misclassified = np.where(np.any(y_test != y_pred_onehot, axis=1))[0]\n",
    "\n",
    "# Analyze misclassified instances and suggest improvements\n",
    "for idx in misclassified[:10]:\n",
    "    print(f\"Movie: {data['movie_name'][idx]}\")\n",
    "    print(f\"Actual genres: {', '.join(data['genre'][idx])}\")\n",
    "    print(f\"Predicted genres: {', '.join(mlb.classes_[y_pred_onehot[idx] == 1])}\")\n",
    "    print()"
   ]
  }
 ],
 "metadata": {
  "kernelspec": {
   "display_name": "env",
   "language": "python",
   "name": "python3"
  },
  "language_info": {
   "codemirror_mode": {
    "name": "ipython",
    "version": 3
   },
   "file_extension": ".py",
   "mimetype": "text/x-python",
   "name": "python",
   "nbconvert_exporter": "python",
   "pygments_lexer": "ipython3",
   "version": "3.10.9"
  }
 },
 "nbformat": 4,
 "nbformat_minor": 2
}
